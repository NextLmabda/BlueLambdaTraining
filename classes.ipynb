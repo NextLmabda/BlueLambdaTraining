{
 "cells": [
  {
   "cell_type": "markdown",
   "id": "dce799cc",
   "metadata": {},
   "source": [
    "Code Warm-up: \n",
    "\n",
    "Take the following 2 lists and write a program that returns a list that contains only the elements that are common between the 2 lists (without duplicates).\n",
    "\n",
    "thor_2_cast = ['Chris Hemsworth', 'Natalie Portman', 'Tom Hiddleston', 'Kat Dennings', 'Anthony Hopkins',\n",
    "               'Jaimie Alexander', 'Idris Elba']\n",
    "ragnarok_cast = ['Chris Hemsworth', 'Tessa Thompson', 'Cate Blanchett', 'Tom Hiddleston', 'Mark Ruffalo', \n",
    "                 'Jeff Goldblum', 'Karl Urban', 'Idris Elba', 'Anthony Hopkins']"
   ]
  },
  {
   "cell_type": "code",
   "execution_count": 1,
   "id": "72f795de",
   "metadata": {},
   "outputs": [],
   "source": [
    "lis = [2, 3, 2, 5, 3, 7, 2]"
   ]
  },
  {
   "cell_type": "code",
   "execution_count": 2,
   "id": "5112fba4",
   "metadata": {},
   "outputs": [
    {
     "data": {
      "text/plain": [
       "{2, 3, 5, 7}"
      ]
     },
     "execution_count": 2,
     "metadata": {},
     "output_type": "execute_result"
    }
   ],
   "source": [
    "set(lis)"
   ]
  },
  {
   "cell_type": "code",
   "execution_count": 11,
   "id": "1778f9b4",
   "metadata": {},
   "outputs": [],
   "source": [
    "def find_common(lis1, lis2):\n",
    "    return list(set(lis1).intersection(set(lis2)))"
   ]
  },
  {
   "cell_type": "code",
   "execution_count": 12,
   "id": "7080fa78",
   "metadata": {},
   "outputs": [],
   "source": [
    "thor_2_cast = ['Chris Hemsworth', 'Natalie Portman', 'Tom Hiddleston', 'Kat Dennings', 'Anthony Hopkins', 'Jaimie Alexander', 'Idris Elba'] \n",
    "ragnarok_cast = ['Chris Hemsworth', 'Tessa Thompson', 'Cate Blanchett', 'Tom Hiddleston', 'Mark Ruffalo', 'Jeff Goldblum', 'Karl Urban', 'Idris Elba', 'Anthony Hopkins']"
   ]
  },
  {
   "cell_type": "code",
   "execution_count": 13,
   "id": "63cac7ef",
   "metadata": {},
   "outputs": [
    {
     "data": {
      "text/plain": [
       "['Anthony Hopkins', 'Chris Hemsworth', 'Idris Elba', 'Tom Hiddleston']"
      ]
     },
     "execution_count": 13,
     "metadata": {},
     "output_type": "execute_result"
    }
   ],
   "source": [
    "find_common(thor_2_cast, ragnarok_cast)"
   ]
  },
  {
   "cell_type": "code",
   "execution_count": null,
   "id": "43607b00",
   "metadata": {},
   "outputs": [],
   "source": []
  },
  {
   "cell_type": "code",
   "execution_count": null,
   "id": "f7fedc2f",
   "metadata": {},
   "outputs": [],
   "source": []
  },
  {
   "cell_type": "code",
   "execution_count": null,
   "id": "c53a9f57",
   "metadata": {},
   "outputs": [],
   "source": []
  },
  {
   "cell_type": "code",
   "execution_count": 5,
   "id": "deb839ca",
   "metadata": {},
   "outputs": [
    {
     "data": {
      "text/plain": [
       "{'Anthony Hopkins',\n",
       " 'Chris Hemsworth',\n",
       " 'Idris Elba',\n",
       " 'Jaimie Alexander',\n",
       " 'Kat Dennings',\n",
       " 'Natalie Portman',\n",
       " 'Tom Hiddleston'}"
      ]
     },
     "execution_count": 5,
     "metadata": {},
     "output_type": "execute_result"
    }
   ],
   "source": [
    "set(thor_2_cast)"
   ]
  },
  {
   "cell_type": "code",
   "execution_count": 6,
   "id": "6bc3e3ab",
   "metadata": {},
   "outputs": [
    {
     "data": {
      "text/plain": [
       "{'Anthony Hopkins',\n",
       " 'Cate Blanchett',\n",
       " 'Chris Hemsworth',\n",
       " 'Idris Elba',\n",
       " 'Jeff Goldblum',\n",
       " 'Karl Urban',\n",
       " 'Mark Ruffalo',\n",
       " 'Tessa Thompson',\n",
       " 'Tom Hiddleston'}"
      ]
     },
     "execution_count": 6,
     "metadata": {},
     "output_type": "execute_result"
    }
   ],
   "source": [
    "set(ragnarok_cast)"
   ]
  },
  {
   "cell_type": "code",
   "execution_count": 7,
   "id": "0f4831a9",
   "metadata": {},
   "outputs": [
    {
     "data": {
      "text/plain": [
       "{'Anthony Hopkins', 'Chris Hemsworth', 'Idris Elba', 'Tom Hiddleston'}"
      ]
     },
     "execution_count": 7,
     "metadata": {},
     "output_type": "execute_result"
    }
   ],
   "source": [
    "set(thor_2_cast).intersection(set(ragnarok_cast))"
   ]
  },
  {
   "cell_type": "code",
   "execution_count": null,
   "id": "25908ce0",
   "metadata": {},
   "outputs": [],
   "source": []
  },
  {
   "cell_type": "code",
   "execution_count": null,
   "id": "8904ef3c",
   "metadata": {},
   "outputs": [],
   "source": []
  },
  {
   "cell_type": "code",
   "execution_count": null,
   "id": "02efc326",
   "metadata": {},
   "outputs": [],
   "source": []
  },
  {
   "cell_type": "code",
   "execution_count": null,
   "id": "f955130a",
   "metadata": {},
   "outputs": [],
   "source": [
    "# recursive function\n",
    "# handle any number of parameters"
   ]
  },
  {
   "cell_type": "code",
   "execution_count": 16,
   "id": "ed53e960",
   "metadata": {},
   "outputs": [
    {
     "name": "stdout",
     "output_type": "stream",
     "text": [
      "10\n",
      "10\n"
     ]
    }
   ],
   "source": [
    "def max_of_two(x, y):\n",
    "    if x > y:\n",
    "        print(x)\n",
    "        return x\n",
    "        \n",
    "    return y\n",
    "\n",
    "\n",
    "def max_of_three(x, y, z):\n",
    "    return max_of_two(x, max_of_two(y, z))\n",
    "\n",
    "\n",
    "print(max_of_three(10, 5, 9))"
   ]
  },
  {
   "cell_type": "code",
   "execution_count": null,
   "id": "04e09f27",
   "metadata": {},
   "outputs": [],
   "source": [
    "def max_of_two(x, y):\n",
    "    if x > y:\n",
    "        return x\n",
    "        print(x)\n",
    "    else:\n",
    "        return y"
   ]
  },
  {
   "cell_type": "code",
   "execution_count": 15,
   "id": "f4254b52",
   "metadata": {},
   "outputs": [
    {
     "data": {
      "text/plain": [
       "6"
      ]
     },
     "execution_count": 15,
     "metadata": {},
     "output_type": "execute_result"
    }
   ],
   "source": [
    "max_of_two(6, -5)"
   ]
  },
  {
   "cell_type": "code",
   "execution_count": 18,
   "id": "747a90b9",
   "metadata": {},
   "outputs": [
    {
     "data": {
      "text/plain": [
       "32"
      ]
     },
     "execution_count": 18,
     "metadata": {},
     "output_type": "execute_result"
    }
   ],
   "source": [
    "max(10, 5, 9, 12, 32)"
   ]
  },
  {
   "cell_type": "code",
   "execution_count": 19,
   "id": "a30e29ac",
   "metadata": {},
   "outputs": [],
   "source": [
    "class car:\n",
    "    pass"
   ]
  },
  {
   "cell_type": "code",
   "execution_count": 21,
   "id": "58db8116",
   "metadata": {},
   "outputs": [],
   "source": [
    "toyota = car()\n",
    "benz = car()\n",
    "ford = car()"
   ]
  },
  {
   "cell_type": "code",
   "execution_count": 22,
   "id": "ec839ac8",
   "metadata": {},
   "outputs": [],
   "source": [
    "class car:\n",
    "    mileage = 100\n",
    "    wheel_size = 21"
   ]
  },
  {
   "cell_type": "code",
   "execution_count": 23,
   "id": "b4d1bd16",
   "metadata": {},
   "outputs": [],
   "source": [
    "toyota = car()\n",
    "benz = car()\n",
    "ford = car()"
   ]
  },
  {
   "cell_type": "code",
   "execution_count": 24,
   "id": "7a7102f8",
   "metadata": {},
   "outputs": [],
   "source": [
    "name = 'Omolewa'"
   ]
  },
  {
   "cell_type": "code",
   "execution_count": null,
   "id": "6ca2c16a",
   "metadata": {},
   "outputs": [],
   "source": [
    "name."
   ]
  },
  {
   "cell_type": "code",
   "execution_count": 28,
   "id": "177e4cee",
   "metadata": {},
   "outputs": [
    {
     "data": {
      "text/plain": [
       "100"
      ]
     },
     "execution_count": 28,
     "metadata": {},
     "output_type": "execute_result"
    }
   ],
   "source": [
    "toyota.mileage"
   ]
  },
  {
   "cell_type": "code",
   "execution_count": 29,
   "id": "325651e5",
   "metadata": {},
   "outputs": [
    {
     "data": {
      "text/plain": [
       "100"
      ]
     },
     "execution_count": 29,
     "metadata": {},
     "output_type": "execute_result"
    }
   ],
   "source": [
    "benz.mileage"
   ]
  },
  {
   "cell_type": "code",
   "execution_count": 30,
   "id": "93b7fde3",
   "metadata": {},
   "outputs": [
    {
     "data": {
      "text/plain": [
       "100"
      ]
     },
     "execution_count": 30,
     "metadata": {},
     "output_type": "execute_result"
    }
   ],
   "source": [
    "ford.mileage"
   ]
  },
  {
   "cell_type": "code",
   "execution_count": 31,
   "id": "9980fbfa",
   "metadata": {},
   "outputs": [],
   "source": [
    "toyota.mileage = 20000"
   ]
  },
  {
   "cell_type": "code",
   "execution_count": 32,
   "id": "ff9ba7a6",
   "metadata": {},
   "outputs": [
    {
     "data": {
      "text/plain": [
       "100"
      ]
     },
     "execution_count": 32,
     "metadata": {},
     "output_type": "execute_result"
    }
   ],
   "source": [
    "benz.mileage"
   ]
  },
  {
   "cell_type": "code",
   "execution_count": 33,
   "id": "503d0fb5",
   "metadata": {},
   "outputs": [
    {
     "data": {
      "text/plain": [
       "100"
      ]
     },
     "execution_count": 33,
     "metadata": {},
     "output_type": "execute_result"
    }
   ],
   "source": [
    "ford.mileage"
   ]
  },
  {
   "cell_type": "code",
   "execution_count": 34,
   "id": "ff17ea45",
   "metadata": {},
   "outputs": [
    {
     "data": {
      "text/plain": [
       "20000"
      ]
     },
     "execution_count": 34,
     "metadata": {},
     "output_type": "execute_result"
    }
   ],
   "source": [
    "toyota.mileage"
   ]
  },
  {
   "cell_type": "code",
   "execution_count": 35,
   "id": "ba0cf403",
   "metadata": {},
   "outputs": [],
   "source": [
    "class car:\n",
    "    mileage = 100\n",
    "    wheel_size = 21\n",
    "    \n",
    "    def multiply_mileage(self, mileage):\n",
    "        return mileage * 50"
   ]
  },
  {
   "cell_type": "code",
   "execution_count": 36,
   "id": "c2312480",
   "metadata": {},
   "outputs": [],
   "source": [
    "toyota = car()\n",
    "benz = car()\n",
    "ford = car()"
   ]
  },
  {
   "cell_type": "code",
   "execution_count": 37,
   "id": "f9e97800",
   "metadata": {},
   "outputs": [
    {
     "data": {
      "text/plain": [
       "50000"
      ]
     },
     "execution_count": 37,
     "metadata": {},
     "output_type": "execute_result"
    }
   ],
   "source": [
    "toyota.multiply_mileage(1000)"
   ]
  },
  {
   "cell_type": "code",
   "execution_count": 42,
   "id": "5dfb415e",
   "metadata": {},
   "outputs": [],
   "source": [
    "class Mathematics:\n",
    "    # constructor (init method)\n",
    "    def __init__(self, x, y):\n",
    "        print(f'You passed in {x} and {y}')"
   ]
  },
  {
   "cell_type": "code",
   "execution_count": 44,
   "id": "16064ffd",
   "metadata": {},
   "outputs": [
    {
     "name": "stdout",
     "output_type": "stream",
     "text": [
      "You passed in 10 and 30\n"
     ]
    },
    {
     "data": {
      "text/plain": [
       "<__main__.Mathematics at 0x19e63e84a90>"
      ]
     },
     "execution_count": 44,
     "metadata": {},
     "output_type": "execute_result"
    }
   ],
   "source": [
    "Mathematics(10, 30)"
   ]
  },
  {
   "cell_type": "code",
   "execution_count": 50,
   "id": "62b0083a",
   "metadata": {},
   "outputs": [],
   "source": [
    "class Mathematics:\n",
    "    # constructor\n",
    "    def __init__(self, x, y):\n",
    "        print(f'You passed in {x} and {y}')\n",
    "        self.fname = 'Omolewa'\n",
    "        self.lname = 'Adaramola'\n",
    "        print(self.fname, self.lname)"
   ]
  },
  {
   "cell_type": "code",
   "execution_count": 51,
   "id": "9636fd23",
   "metadata": {},
   "outputs": [
    {
     "name": "stdout",
     "output_type": "stream",
     "text": [
      "You passed in 10 and 30\n",
      "Omolewa Adaramola\n"
     ]
    }
   ],
   "source": [
    "mth = Mathematics(10, 30)"
   ]
  },
  {
   "cell_type": "code",
   "execution_count": 47,
   "id": "7faf78ed",
   "metadata": {},
   "outputs": [
    {
     "data": {
      "text/plain": [
       "'Omolewa'"
      ]
     },
     "execution_count": 47,
     "metadata": {},
     "output_type": "execute_result"
    }
   ],
   "source": [
    "mth.fname"
   ]
  },
  {
   "cell_type": "code",
   "execution_count": 60,
   "id": "6d9652fc",
   "metadata": {},
   "outputs": [],
   "source": [
    "class Mathematics:\n",
    "    # constructor\n",
    "    def __init__(self, x, y):\n",
    "        print(f'You passed in {x} and {y}')\n",
    "        self.fname = 'Omolewa'\n",
    "        self.lname = 'Adaramola'\n",
    "        self.mname = 'Bukola'\n",
    "        \n",
    "    def multiply(self):\n",
    "        print(self.fname)"
   ]
  },
  {
   "cell_type": "code",
   "execution_count": 61,
   "id": "c3fc4897",
   "metadata": {},
   "outputs": [
    {
     "name": "stdout",
     "output_type": "stream",
     "text": [
      "You passed in 10 and 30\n"
     ]
    }
   ],
   "source": [
    "mth = Mathematics(10, 30)"
   ]
  },
  {
   "cell_type": "code",
   "execution_count": 59,
   "id": "a0c54ddb",
   "metadata": {},
   "outputs": [
    {
     "name": "stdout",
     "output_type": "stream",
     "text": [
      "Omolewa\n"
     ]
    }
   ],
   "source": [
    "mth."
   ]
  },
  {
   "cell_type": "code",
   "execution_count": 64,
   "id": "82db3da0",
   "metadata": {},
   "outputs": [],
   "source": [
    "class Mathematics:\n",
    "    # constructor\n",
    "    def __init__(self, a, b):\n",
    "        print(f'You passed in {a} and {b}')\n",
    "        self.x = a\n",
    "        self.y = b\n",
    "        \n",
    "    def multiply(self):\n",
    "        return self.x * self.y"
   ]
  },
  {
   "cell_type": "code",
   "execution_count": 65,
   "id": "22a0f5ff",
   "metadata": {},
   "outputs": [
    {
     "name": "stdout",
     "output_type": "stream",
     "text": [
      "You passed in 10 and 30\n"
     ]
    }
   ],
   "source": [
    "mth = Mathematics(10, 30)"
   ]
  },
  {
   "cell_type": "code",
   "execution_count": 66,
   "id": "960ba27a",
   "metadata": {},
   "outputs": [
    {
     "data": {
      "text/plain": [
       "300"
      ]
     },
     "execution_count": 66,
     "metadata": {},
     "output_type": "execute_result"
    }
   ],
   "source": [
    "mth.multiply()"
   ]
  },
  {
   "cell_type": "code",
   "execution_count": 67,
   "id": "16d3c7c3",
   "metadata": {},
   "outputs": [],
   "source": [
    "class Mathematics:\n",
    "    # constructor\n",
    "    def __init__(self, a, b):\n",
    "        print(f'You passed in {a} and {b}')\n",
    "        self.x = a\n",
    "        self.y = b\n",
    "        \n",
    "    def multiply(self):\n",
    "        return self.x * self.y\n",
    "    \n",
    "    def add(self):\n",
    "        return self.x + self.y\n",
    "    \n",
    "    def multiply_add(self):\n",
    "        return self.multiply() / self.add()"
   ]
  },
  {
   "cell_type": "code",
   "execution_count": 68,
   "id": "fb298b49",
   "metadata": {},
   "outputs": [
    {
     "name": "stdout",
     "output_type": "stream",
     "text": [
      "You passed in 10 and 30\n"
     ]
    }
   ],
   "source": [
    "mth = Mathematics(10, 30)"
   ]
  },
  {
   "cell_type": "code",
   "execution_count": 69,
   "id": "9bc8ded9",
   "metadata": {},
   "outputs": [
    {
     "data": {
      "text/plain": [
       "7.5"
      ]
     },
     "execution_count": 69,
     "metadata": {},
     "output_type": "execute_result"
    }
   ],
   "source": [
    "mth.multiply_add()"
   ]
  },
  {
   "cell_type": "code",
   "execution_count": 71,
   "id": "1aa97566",
   "metadata": {},
   "outputs": [],
   "source": [
    "class Mathematics:\n",
    "        \n",
    "    def multiply(self, x, y):\n",
    "        return x * y\n",
    "    \n",
    "    def add(self, x, y):\n",
    "        return x + y\n",
    "    \n",
    "    def division(self, x, y):\n",
    "        return x / y\n",
    "    \n",
    "    def modulo(self, x, y):\n",
    "        return x % y"
   ]
  },
  {
   "cell_type": "code",
   "execution_count": 72,
   "id": "43f21635",
   "metadata": {},
   "outputs": [],
   "source": [
    "mth = Mathematics()"
   ]
  },
  {
   "cell_type": "code",
   "execution_count": 73,
   "id": "85d4997a",
   "metadata": {},
   "outputs": [
    {
     "data": {
      "text/plain": [
       "9"
      ]
     },
     "execution_count": 73,
     "metadata": {},
     "output_type": "execute_result"
    }
   ],
   "source": [
    "mth.add(4, 5)"
   ]
  },
  {
   "cell_type": "code",
   "execution_count": 74,
   "id": "26160c7b",
   "metadata": {},
   "outputs": [
    {
     "data": {
      "text/plain": [
       "3"
      ]
     },
     "execution_count": 74,
     "metadata": {},
     "output_type": "execute_result"
    }
   ],
   "source": [
    "mth.modulo(19, 8)"
   ]
  },
  {
   "cell_type": "code",
   "execution_count": 1,
   "id": "13bae436",
   "metadata": {},
   "outputs": [],
   "source": [
    "lis = ['a', 'b', 'd']"
   ]
  },
  {
   "cell_type": "code",
   "execution_count": 2,
   "id": "dd2c8578",
   "metadata": {},
   "outputs": [],
   "source": [
    "lis += 'qwfp'"
   ]
  },
  {
   "cell_type": "code",
   "execution_count": null,
   "id": "bd656a46",
   "metadata": {},
   "outputs": [],
   "source": [
    "lis = lis + 'qwfp'"
   ]
  },
  {
   "cell_type": "code",
   "execution_count": 3,
   "id": "ce85388e",
   "metadata": {},
   "outputs": [
    {
     "data": {
      "text/plain": [
       "['a', 'b', 'd', 'q', 'w', 'f', 'p']"
      ]
     },
     "execution_count": 3,
     "metadata": {},
     "output_type": "execute_result"
    }
   ],
   "source": [
    "lis"
   ]
  },
  {
   "cell_type": "code",
   "execution_count": 4,
   "id": "dec2e53d",
   "metadata": {},
   "outputs": [],
   "source": [
    "lis2 = ['k', 'l']"
   ]
  },
  {
   "cell_type": "code",
   "execution_count": 5,
   "id": "f1be7848",
   "metadata": {},
   "outputs": [],
   "source": [
    "lis += lis2"
   ]
  },
  {
   "cell_type": "code",
   "execution_count": 6,
   "id": "75abc2da",
   "metadata": {},
   "outputs": [
    {
     "data": {
      "text/plain": [
       "['a', 'b', 'd', 'q', 'w', 'f', 'p', 'k', 'l']"
      ]
     },
     "execution_count": 6,
     "metadata": {},
     "output_type": "execute_result"
    }
   ],
   "source": [
    "lis"
   ]
  },
  {
   "cell_type": "code",
   "execution_count": null,
   "id": "1b372271",
   "metadata": {},
   "outputs": [],
   "source": [
    "['a', 'b', 'd', 'qwfp']"
   ]
  },
  {
   "cell_type": "code",
   "execution_count": 7,
   "id": "d057f2dd",
   "metadata": {},
   "outputs": [],
   "source": [
    "# Inheritance"
   ]
  },
  {
   "cell_type": "code",
   "execution_count": 29,
   "id": "6f891380",
   "metadata": {},
   "outputs": [],
   "source": [
    "class Person:\n",
    "    salary = 1000\n",
    "    def __init__(self, name, id):\n",
    "        self.name = name\n",
    "        self.id = id\n",
    "        \n",
    "    def display(self):\n",
    "        print(self.name, self.id)"
   ]
  },
  {
   "cell_type": "code",
   "execution_count": 16,
   "id": "5bb2ee90",
   "metadata": {},
   "outputs": [],
   "source": [
    "person1 = Person('Omolewa', '100')\n",
    "person2 = Person('Brown', 200)"
   ]
  },
  {
   "cell_type": "code",
   "execution_count": 18,
   "id": "c3d57313",
   "metadata": {},
   "outputs": [],
   "source": [
    "person1.salary = 2000"
   ]
  },
  {
   "cell_type": "code",
   "execution_count": 19,
   "id": "a488df04",
   "metadata": {},
   "outputs": [
    {
     "data": {
      "text/plain": [
       "1000"
      ]
     },
     "execution_count": 19,
     "metadata": {},
     "output_type": "execute_result"
    }
   ],
   "source": [
    "person2.salary"
   ]
  },
  {
   "cell_type": "code",
   "execution_count": 21,
   "id": "3d1b1e9b",
   "metadata": {},
   "outputs": [
    {
     "data": {
      "text/plain": [
       "2000"
      ]
     },
     "execution_count": 21,
     "metadata": {},
     "output_type": "execute_result"
    }
   ],
   "source": [
    "person1.salary"
   ]
  },
  {
   "cell_type": "code",
   "execution_count": 30,
   "id": "821ad9f7",
   "metadata": {},
   "outputs": [],
   "source": [
    "class Emp(Person):\n",
    "    def Print(self):\n",
    "        print('Emp class called')\n",
    "    def play(self):\n",
    "        print('Playing')"
   ]
  },
  {
   "cell_type": "code",
   "execution_count": 26,
   "id": "50a92b44",
   "metadata": {},
   "outputs": [],
   "source": [
    "emp = Emp('Omolewa', '100')"
   ]
  },
  {
   "cell_type": "code",
   "execution_count": 31,
   "id": "aaeaceda",
   "metadata": {},
   "outputs": [],
   "source": [
    "class EmpEmp(Emp):\n",
    "    def plyinggolf(self):\n",
    "        print('Omolewa')"
   ]
  },
  {
   "cell_type": "code",
   "execution_count": 32,
   "id": "c226e4bb",
   "metadata": {},
   "outputs": [],
   "source": [
    "p = EmpEmp('Omolewa', '100')"
   ]
  },
  {
   "cell_type": "code",
   "execution_count": null,
   "id": "7f64d716",
   "metadata": {},
   "outputs": [],
   "source": []
  },
  {
   "cell_type": "code",
   "execution_count": 33,
   "id": "6865d023",
   "metadata": {},
   "outputs": [],
   "source": [
    "# Dunder"
   ]
  },
  {
   "cell_type": "code",
   "execution_count": null,
   "id": "13e631b6",
   "metadata": {},
   "outputs": [],
   "source": [
    "# __add__"
   ]
  },
  {
   "cell_type": "code",
   "execution_count": 43,
   "id": "e408eaa6",
   "metadata": {},
   "outputs": [
    {
     "data": {
      "text/plain": [
       "10"
      ]
     },
     "execution_count": 43,
     "metadata": {},
     "output_type": "execute_result"
    }
   ],
   "source": [
    "3 + 7"
   ]
  },
  {
   "cell_type": "code",
   "execution_count": 42,
   "id": "dd5af96e",
   "metadata": {},
   "outputs": [
    {
     "data": {
      "text/plain": [
       "10"
      ]
     },
     "execution_count": 42,
     "metadata": {},
     "output_type": "execute_result"
    }
   ],
   "source": [
    "(3).__add__(7)"
   ]
  },
  {
   "cell_type": "code",
   "execution_count": 52,
   "id": "6d666f41",
   "metadata": {},
   "outputs": [],
   "source": [
    "class Mathematics:\n",
    "    def __init__(self, num):\n",
    "        self.num = num\n",
    "    \n",
    "    def __add__(self, other):\n",
    "        return other.num * (self.num) + self.num"
   ]
  },
  {
   "cell_type": "code",
   "execution_count": 48,
   "id": "ce919cf1",
   "metadata": {},
   "outputs": [
    {
     "data": {
      "text/plain": [
       "7"
      ]
     },
     "execution_count": 48,
     "metadata": {},
     "output_type": "execute_result"
    }
   ],
   "source": [
    "3 + 4"
   ]
  },
  {
   "cell_type": "code",
   "execution_count": null,
   "id": "dab477db",
   "metadata": {},
   "outputs": [],
   "source": [
    "operators: + - * /"
   ]
  },
  {
   "cell_type": "code",
   "execution_count": 53,
   "id": "03ab5bba",
   "metadata": {},
   "outputs": [],
   "source": [
    "math1 = Mathematics(4)\n",
    "math2 = Mathematics(9)"
   ]
  },
  {
   "cell_type": "code",
   "execution_count": 54,
   "id": "eb9ab6c1",
   "metadata": {},
   "outputs": [
    {
     "data": {
      "text/plain": [
       "40"
      ]
     },
     "execution_count": 54,
     "metadata": {},
     "output_type": "execute_result"
    }
   ],
   "source": [
    "math1 + math2"
   ]
  },
  {
   "cell_type": "code",
   "execution_count": 51,
   "id": "7888b9dc",
   "metadata": {},
   "outputs": [
    {
     "data": {
      "text/plain": [
       "13"
      ]
     },
     "execution_count": 51,
     "metadata": {},
     "output_type": "execute_result"
    }
   ],
   "source": [
    "4 + 9"
   ]
  },
  {
   "cell_type": "code",
   "execution_count": 55,
   "id": "fea17ece",
   "metadata": {},
   "outputs": [
    {
     "name": "stdout",
     "output_type": "stream",
     "text": [
      "Collecting pandasqlNote: you may need to restart the kernel to use updated packages.\n",
      "\n",
      "  Downloading pandasql-0.7.3.tar.gz (26 kB)\n",
      "Requirement already satisfied: numpy in c:\\users\\adara\\anaconda3\\lib\\site-packages (from pandasql) (1.19.5)\n",
      "Requirement already satisfied: pandas in c:\\users\\adara\\anaconda3\\lib\\site-packages (from pandasql) (1.2.4)\n",
      "Requirement already satisfied: sqlalchemy in c:\\users\\adara\\anaconda3\\lib\\site-packages (from pandasql) (1.4.7)\n",
      "Requirement already satisfied: pytz>=2017.3 in c:\\users\\adara\\anaconda3\\lib\\site-packages (from pandas->pandasql) (2021.1)\n",
      "Requirement already satisfied: python-dateutil>=2.7.3 in c:\\users\\adara\\anaconda3\\lib\\site-packages (from pandas->pandasql) (2.8.1)\n",
      "Requirement already satisfied: six>=1.5 in c:\\users\\adara\\anaconda3\\lib\\site-packages (from python-dateutil>=2.7.3->pandas->pandasql) (1.15.0)\n",
      "Requirement already satisfied: greenlet!=0.4.17 in c:\\users\\adara\\anaconda3\\lib\\site-packages (from sqlalchemy->pandasql) (1.0.0)\n",
      "Building wheels for collected packages: pandasql\n",
      "  Building wheel for pandasql (setup.py): started\n",
      "  Building wheel for pandasql (setup.py): finished with status 'done'\n",
      "  Created wheel for pandasql: filename=pandasql-0.7.3-py3-none-any.whl size=26818 sha256=893a599ee8288bb762c6db814a5c223bdb33c70f55bc70a782074d5f02d6dd3f\n",
      "  Stored in directory: c:\\users\\adara\\appdata\\local\\pip\\cache\\wheels\\ed\\8f\\46\\a383923333728744f01ba24adbd8e364f2cb9470a8b8e5b9ff\n",
      "Successfully built pandasql\n",
      "Installing collected packages: pandasql\n",
      "Successfully installed pandasql-0.7.3\n"
     ]
    }
   ],
   "source": [
    "pip install pandasql"
   ]
  },
  {
   "cell_type": "code",
   "execution_count": 57,
   "id": "e2ac7776",
   "metadata": {},
   "outputs": [],
   "source": [
    "import pandas as pd"
   ]
  },
  {
   "cell_type": "code",
   "execution_count": 58,
   "id": "a9b09471",
   "metadata": {},
   "outputs": [],
   "source": [
    "df = pd.read_csv('train.csv')"
   ]
  },
  {
   "cell_type": "code",
   "execution_count": 59,
   "id": "f5e27ce7",
   "metadata": {},
   "outputs": [
    {
     "data": {
      "text/html": [
       "<div>\n",
       "<style scoped>\n",
       "    .dataframe tbody tr th:only-of-type {\n",
       "        vertical-align: middle;\n",
       "    }\n",
       "\n",
       "    .dataframe tbody tr th {\n",
       "        vertical-align: top;\n",
       "    }\n",
       "\n",
       "    .dataframe thead th {\n",
       "        text-align: right;\n",
       "    }\n",
       "</style>\n",
       "<table border=\"1\" class=\"dataframe\">\n",
       "  <thead>\n",
       "    <tr style=\"text-align: right;\">\n",
       "      <th></th>\n",
       "      <th>dispatching_base_number</th>\n",
       "      <th>date</th>\n",
       "      <th>active_vehicles</th>\n",
       "      <th>trips</th>\n",
       "    </tr>\n",
       "  </thead>\n",
       "  <tbody>\n",
       "    <tr>\n",
       "      <th>0</th>\n",
       "      <td>B02512</td>\n",
       "      <td>1/1/2015</td>\n",
       "      <td>190</td>\n",
       "      <td>1132</td>\n",
       "    </tr>\n",
       "    <tr>\n",
       "      <th>1</th>\n",
       "      <td>B02765</td>\n",
       "      <td>1/1/2015</td>\n",
       "      <td>225</td>\n",
       "      <td>1765</td>\n",
       "    </tr>\n",
       "    <tr>\n",
       "      <th>2</th>\n",
       "      <td>B02764</td>\n",
       "      <td>1/1/2015</td>\n",
       "      <td>3427</td>\n",
       "      <td>29421</td>\n",
       "    </tr>\n",
       "    <tr>\n",
       "      <th>3</th>\n",
       "      <td>B02682</td>\n",
       "      <td>1/1/2015</td>\n",
       "      <td>945</td>\n",
       "      <td>7679</td>\n",
       "    </tr>\n",
       "    <tr>\n",
       "      <th>4</th>\n",
       "      <td>B02617</td>\n",
       "      <td>1/1/2015</td>\n",
       "      <td>1228</td>\n",
       "      <td>9537</td>\n",
       "    </tr>\n",
       "  </tbody>\n",
       "</table>\n",
       "</div>"
      ],
      "text/plain": [
       "  dispatching_base_number      date  active_vehicles  trips\n",
       "0                  B02512  1/1/2015              190   1132\n",
       "1                  B02765  1/1/2015              225   1765\n",
       "2                  B02764  1/1/2015             3427  29421\n",
       "3                  B02682  1/1/2015              945   7679\n",
       "4                  B02617  1/1/2015             1228   9537"
      ]
     },
     "execution_count": 59,
     "metadata": {},
     "output_type": "execute_result"
    }
   ],
   "source": [
    "df.head()"
   ]
  },
  {
   "cell_type": "code",
   "execution_count": 60,
   "id": "667d654a",
   "metadata": {},
   "outputs": [],
   "source": [
    "from pandasql import sqldf"
   ]
  },
  {
   "cell_type": "code",
   "execution_count": 62,
   "id": "f25cc606",
   "metadata": {},
   "outputs": [
    {
     "data": {
      "text/html": [
       "<div>\n",
       "<style scoped>\n",
       "    .dataframe tbody tr th:only-of-type {\n",
       "        vertical-align: middle;\n",
       "    }\n",
       "\n",
       "    .dataframe tbody tr th {\n",
       "        vertical-align: top;\n",
       "    }\n",
       "\n",
       "    .dataframe thead th {\n",
       "        text-align: right;\n",
       "    }\n",
       "</style>\n",
       "<table border=\"1\" class=\"dataframe\">\n",
       "  <thead>\n",
       "    <tr style=\"text-align: right;\">\n",
       "      <th></th>\n",
       "      <th>dispatching_base_number</th>\n",
       "      <th>date</th>\n",
       "      <th>active_vehicles</th>\n",
       "      <th>trips</th>\n",
       "    </tr>\n",
       "  </thead>\n",
       "  <tbody>\n",
       "    <tr>\n",
       "      <th>0</th>\n",
       "      <td>B02512</td>\n",
       "      <td>1/1/2015</td>\n",
       "      <td>190</td>\n",
       "      <td>1132</td>\n",
       "    </tr>\n",
       "    <tr>\n",
       "      <th>1</th>\n",
       "      <td>B02765</td>\n",
       "      <td>1/1/2015</td>\n",
       "      <td>225</td>\n",
       "      <td>1765</td>\n",
       "    </tr>\n",
       "    <tr>\n",
       "      <th>2</th>\n",
       "      <td>B02764</td>\n",
       "      <td>1/1/2015</td>\n",
       "      <td>3427</td>\n",
       "      <td>29421</td>\n",
       "    </tr>\n",
       "    <tr>\n",
       "      <th>3</th>\n",
       "      <td>B02682</td>\n",
       "      <td>1/1/2015</td>\n",
       "      <td>945</td>\n",
       "      <td>7679</td>\n",
       "    </tr>\n",
       "    <tr>\n",
       "      <th>4</th>\n",
       "      <td>B02617</td>\n",
       "      <td>1/1/2015</td>\n",
       "      <td>1228</td>\n",
       "      <td>9537</td>\n",
       "    </tr>\n",
       "    <tr>\n",
       "      <th>5</th>\n",
       "      <td>B02598</td>\n",
       "      <td>1/1/2015</td>\n",
       "      <td>870</td>\n",
       "      <td>6903</td>\n",
       "    </tr>\n",
       "    <tr>\n",
       "      <th>6</th>\n",
       "      <td>B02598</td>\n",
       "      <td>1/2/2015</td>\n",
       "      <td>785</td>\n",
       "      <td>4768</td>\n",
       "    </tr>\n",
       "    <tr>\n",
       "      <th>7</th>\n",
       "      <td>B02617</td>\n",
       "      <td>1/2/2015</td>\n",
       "      <td>1137</td>\n",
       "      <td>7065</td>\n",
       "    </tr>\n",
       "    <tr>\n",
       "      <th>8</th>\n",
       "      <td>B02512</td>\n",
       "      <td>1/2/2015</td>\n",
       "      <td>175</td>\n",
       "      <td>875</td>\n",
       "    </tr>\n",
       "    <tr>\n",
       "      <th>9</th>\n",
       "      <td>B02682</td>\n",
       "      <td>1/2/2015</td>\n",
       "      <td>890</td>\n",
       "      <td>5506</td>\n",
       "    </tr>\n",
       "  </tbody>\n",
       "</table>\n",
       "</div>"
      ],
      "text/plain": [
       "  dispatching_base_number      date  active_vehicles  trips\n",
       "0                  B02512  1/1/2015              190   1132\n",
       "1                  B02765  1/1/2015              225   1765\n",
       "2                  B02764  1/1/2015             3427  29421\n",
       "3                  B02682  1/1/2015              945   7679\n",
       "4                  B02617  1/1/2015             1228   9537\n",
       "5                  B02598  1/1/2015              870   6903\n",
       "6                  B02598  1/2/2015              785   4768\n",
       "7                  B02617  1/2/2015             1137   7065\n",
       "8                  B02512  1/2/2015              175    875\n",
       "9                  B02682  1/2/2015              890   5506"
      ]
     },
     "execution_count": 62,
     "metadata": {},
     "output_type": "execute_result"
    }
   ],
   "source": [
    "sqldf(\"SELECT * FROM df LIMIT 10;\")"
   ]
  },
  {
   "cell_type": "code",
   "execution_count": 72,
   "id": "896655ff",
   "metadata": {},
   "outputs": [
    {
     "data": {
      "text/html": [
       "<div>\n",
       "<style scoped>\n",
       "    .dataframe tbody tr th:only-of-type {\n",
       "        vertical-align: middle;\n",
       "    }\n",
       "\n",
       "    .dataframe tbody tr th {\n",
       "        vertical-align: top;\n",
       "    }\n",
       "\n",
       "    .dataframe thead th {\n",
       "        text-align: right;\n",
       "    }\n",
       "</style>\n",
       "<table border=\"1\" class=\"dataframe\">\n",
       "  <thead>\n",
       "    <tr style=\"text-align: right;\">\n",
       "      <th></th>\n",
       "      <th>date</th>\n",
       "      <th>active_vehicles</th>\n",
       "    </tr>\n",
       "  </thead>\n",
       "  <tbody>\n",
       "    <tr>\n",
       "      <th>0</th>\n",
       "      <td>2/13/2015</td>\n",
       "      <td>4395</td>\n",
       "    </tr>\n",
       "    <tr>\n",
       "      <th>1</th>\n",
       "      <td>2/20/2015</td>\n",
       "      <td>4384</td>\n",
       "    </tr>\n",
       "    <tr>\n",
       "      <th>2</th>\n",
       "      <td>2/27/2015</td>\n",
       "      <td>4253</td>\n",
       "    </tr>\n",
       "    <tr>\n",
       "      <th>3</th>\n",
       "      <td>2/6/2015</td>\n",
       "      <td>4170</td>\n",
       "    </tr>\n",
       "    <tr>\n",
       "      <th>4</th>\n",
       "      <td>2/12/2015</td>\n",
       "      <td>4137</td>\n",
       "    </tr>\n",
       "    <tr>\n",
       "      <th>5</th>\n",
       "      <td>2/14/2015</td>\n",
       "      <td>4129</td>\n",
       "    </tr>\n",
       "    <tr>\n",
       "      <th>6</th>\n",
       "      <td>1/30/2015</td>\n",
       "      <td>4124</td>\n",
       "    </tr>\n",
       "    <tr>\n",
       "      <th>7</th>\n",
       "      <td>2/19/2015</td>\n",
       "      <td>4110</td>\n",
       "    </tr>\n",
       "    <tr>\n",
       "      <th>8</th>\n",
       "      <td>2/26/2015</td>\n",
       "      <td>4101</td>\n",
       "    </tr>\n",
       "  </tbody>\n",
       "</table>\n",
       "</div>"
      ],
      "text/plain": [
       "        date  active_vehicles\n",
       "0  2/13/2015             4395\n",
       "1  2/20/2015             4384\n",
       "2  2/27/2015             4253\n",
       "3   2/6/2015             4170\n",
       "4  2/12/2015             4137\n",
       "5  2/14/2015             4129\n",
       "6  1/30/2015             4124\n",
       "7  2/19/2015             4110\n",
       "8  2/26/2015             4101"
      ]
     },
     "execution_count": 72,
     "metadata": {},
     "output_type": "execute_result"
    }
   ],
   "source": [
    "sqldf(\"SELECT date, active_vehicles FROM df ORDER BY active_vehicles DESC\").head(9)"
   ]
  },
  {
   "cell_type": "code",
   "execution_count": null,
   "id": "9ce40028",
   "metadata": {},
   "outputs": [],
   "source": []
  },
  {
   "cell_type": "code",
   "execution_count": 129,
   "id": "f824d56b",
   "metadata": {},
   "outputs": [],
   "source": [
    "class Polygon:\n",
    "    def __init__(self, no_of_sides):\n",
    "        assert no_of_sides > 2, 'The number of sides should be greater than 2'\n",
    "        self.n = no_of_sides\n",
    "        self.sides = [0 for i in range(no_of_sides)]\n",
    "\n",
    "    def inputSides(self):\n",
    "        self.sides = [float(input(f'Enter Side {i + 1}: ')) for i in range(self.n)]\n",
    "\n",
    "    def dispSides(self):\n",
    "        for i in range(self.n):\n",
    "            print(\"Side\",i+1,\"is\",self.sides[i])\n",
    "            \n",
    "    def isRightAngle(self):\n",
    "        if self.n != 3:\n",
    "            return False\n",
    "        sides_sorted = sorted(self.sides)\n",
    "        if sides_sorted[2] ** 2 == sides_sorted[0] ** 2 + sides_sorted[1] ** 2:\n",
    "            return True"
   ]
  },
  {
   "cell_type": "code",
   "execution_count": 141,
   "id": "960cc383",
   "metadata": {},
   "outputs": [],
   "source": [
    "class Triangle(Polygon):\n",
    "    def __init__(self, n):\n",
    "        Polygon.__init__(self, n)\n",
    "\n",
    "    def findArea(self):\n",
    "        a, b, c = self.sides\n",
    "        # calculate the semi-perimeter\n",
    "        s = (a + b + c) / 2\n",
    "        area = (s*(s-a)*(s-b)*(s-c)) ** 0.5\n",
    "        print('The area of the triangle is %0.2f' %area)"
   ]
  },
  {
   "cell_type": "code",
   "execution_count": null,
   "id": "f25b87f0",
   "metadata": {},
   "outputs": [],
   "source": [
    "class Paralellogram(Polygon):\n",
    "    def __init__(self, n):\n",
    "        Polygon.__init__(self, n)\n",
    "    \n",
    "    def findArea(self):\n",
    "        "
   ]
  },
  {
   "cell_type": "code",
   "execution_count": 151,
   "id": "334276d9",
   "metadata": {},
   "outputs": [
    {
     "data": {
      "text/plain": [
       "[3, 5, 6, 7]"
      ]
     },
     "execution_count": 151,
     "metadata": {},
     "output_type": "execute_result"
    }
   ],
   "source": [
    "[3, 5, 6, 7]"
   ]
  },
  {
   "cell_type": "code",
   "execution_count": null,
   "id": "b4f43d16",
   "metadata": {},
   "outputs": [],
   "source": []
  },
  {
   "cell_type": "code",
   "execution_count": null,
   "id": "fdbc3802",
   "metadata": {},
   "outputs": [],
   "source": []
  },
  {
   "cell_type": "code",
   "execution_count": null,
   "id": "f8f1e60d",
   "metadata": {},
   "outputs": [],
   "source": []
  },
  {
   "cell_type": "code",
   "execution_count": null,
   "id": "be70da5c",
   "metadata": {},
   "outputs": [],
   "source": []
  },
  {
   "cell_type": "code",
   "execution_count": 147,
   "id": "4c161c61",
   "metadata": {},
   "outputs": [],
   "source": [
    "tri = Triangle(3)"
   ]
  },
  {
   "cell_type": "code",
   "execution_count": 148,
   "id": "3d3c2c00",
   "metadata": {},
   "outputs": [
    {
     "name": "stdout",
     "output_type": "stream",
     "text": [
      "Enter Side 1: 3\n",
      "Enter Side 2: 5\n",
      "Enter Side 3: 4\n"
     ]
    }
   ],
   "source": [
    "tri.inputSides()"
   ]
  },
  {
   "cell_type": "code",
   "execution_count": 149,
   "id": "6f1d5961",
   "metadata": {},
   "outputs": [
    {
     "name": "stdout",
     "output_type": "stream",
     "text": [
      "The area of the triangle is 6.00\n"
     ]
    }
   ],
   "source": [
    "tri.findArea()"
   ]
  },
  {
   "cell_type": "code",
   "execution_count": 150,
   "id": "40e53110",
   "metadata": {},
   "outputs": [
    {
     "data": {
      "text/plain": [
       "True"
      ]
     },
     "execution_count": 150,
     "metadata": {},
     "output_type": "execute_result"
    }
   ],
   "source": [
    "tri.isRightAngle()"
   ]
  },
  {
   "cell_type": "code",
   "execution_count": null,
   "id": "88c2be74",
   "metadata": {},
   "outputs": [],
   "source": []
  },
  {
   "cell_type": "code",
   "execution_count": null,
   "id": "0e2ac6ca",
   "metadata": {},
   "outputs": [],
   "source": []
  },
  {
   "cell_type": "code",
   "execution_count": 143,
   "id": "7a5b1540",
   "metadata": {},
   "outputs": [
    {
     "name": "stdout",
     "output_type": "stream",
     "text": [
      "The area of the triangle is 0.00\n"
     ]
    }
   ],
   "source": [
    "tri.findArea()"
   ]
  },
  {
   "cell_type": "code",
   "execution_count": null,
   "id": "668bc23e",
   "metadata": {},
   "outputs": [],
   "source": [
    "tri.findArea"
   ]
  },
  {
   "cell_type": "code",
   "execution_count": 132,
   "id": "8eabb2c3",
   "metadata": {},
   "outputs": [
    {
     "ename": "TypeError",
     "evalue": "__init__() missing 1 required positional argument: 'no_of_sides'",
     "output_type": "error",
     "traceback": [
      "\u001b[1;31m---------------------------------------------------------------------------\u001b[0m",
      "\u001b[1;31mTypeError\u001b[0m                                 Traceback (most recent call last)",
      "\u001b[1;32m<ipython-input-132-46162409590c>\u001b[0m in \u001b[0;36m<module>\u001b[1;34m\u001b[0m\n\u001b[1;32m----> 1\u001b[1;33m \u001b[0mpoly\u001b[0m \u001b[1;33m=\u001b[0m \u001b[0mPolygon\u001b[0m\u001b[1;33m(\u001b[0m\u001b[1;33m)\u001b[0m\u001b[1;33m\u001b[0m\u001b[1;33m\u001b[0m\u001b[0m\n\u001b[0m",
      "\u001b[1;31mTypeError\u001b[0m: __init__() missing 1 required positional argument: 'no_of_sides'"
     ]
    }
   ],
   "source": [
    "Triangle()\n",
    "Polygon()\n"
   ]
  },
  {
   "cell_type": "code",
   "execution_count": 124,
   "id": "77987c93",
   "metadata": {},
   "outputs": [
    {
     "name": "stdout",
     "output_type": "stream",
     "text": [
      "Enter Side 1: 3\n",
      "Enter Side 2: 4\n",
      "Enter Side 3: 5\n",
      "Enter Side 4: 10\n"
     ]
    }
   ],
   "source": [
    "poly.inputSides()"
   ]
  },
  {
   "cell_type": "code",
   "execution_count": 125,
   "id": "72fcf914",
   "metadata": {},
   "outputs": [
    {
     "name": "stdout",
     "output_type": "stream",
     "text": [
      "Side 1 is 3.0\n",
      "Side 2 is 4.0\n",
      "Side 3 is 5.0\n",
      "Side 4 is 10.0\n"
     ]
    }
   ],
   "source": [
    "poly.dispSides()"
   ]
  },
  {
   "cell_type": "code",
   "execution_count": 126,
   "id": "fc6bf9ca",
   "metadata": {},
   "outputs": [
    {
     "data": {
      "text/plain": [
       "False"
      ]
     },
     "execution_count": 126,
     "metadata": {},
     "output_type": "execute_result"
    }
   ],
   "source": [
    "poly.isRightAngle()"
   ]
  },
  {
   "cell_type": "code",
   "execution_count": 100,
   "id": "7e917498",
   "metadata": {},
   "outputs": [
    {
     "data": {
      "text/plain": [
       "'101010'"
      ]
     },
     "execution_count": 100,
     "metadata": {},
     "output_type": "execute_result"
    }
   ],
   "source": [
    "unittesting"
   ]
  },
  {
   "cell_type": "code",
   "execution_count": 114,
   "id": "439c1944",
   "metadata": {},
   "outputs": [],
   "source": [
    "k = [2, 9, 1, 4]"
   ]
  },
  {
   "cell_type": "code",
   "execution_count": 116,
   "id": "f2e982ae",
   "metadata": {},
   "outputs": [
    {
     "data": {
      "text/plain": [
       "[1, 2, 4, 9]"
      ]
     },
     "execution_count": 116,
     "metadata": {},
     "output_type": "execute_result"
    }
   ],
   "source": [
    "sorted(k)"
   ]
  },
  {
   "cell_type": "code",
   "execution_count": 117,
   "id": "d54e7e36",
   "metadata": {},
   "outputs": [
    {
     "data": {
      "text/plain": [
       "[2, 9, 1, 4]"
      ]
     },
     "execution_count": 117,
     "metadata": {},
     "output_type": "execute_result"
    }
   ],
   "source": [
    "k"
   ]
  },
  {
   "cell_type": "code",
   "execution_count": 144,
   "id": "969e8736",
   "metadata": {},
   "outputs": [],
   "source": [
    "a, b, c, d = [2, 9, 1, 4]"
   ]
  },
  {
   "cell_type": "code",
   "execution_count": 145,
   "id": "4eb5da4a",
   "metadata": {},
   "outputs": [
    {
     "data": {
      "text/plain": [
       "2"
      ]
     },
     "execution_count": 145,
     "metadata": {},
     "output_type": "execute_result"
    }
   ],
   "source": [
    "a"
   ]
  },
  {
   "cell_type": "code",
   "execution_count": 146,
   "id": "97bc51a5",
   "metadata": {},
   "outputs": [
    {
     "data": {
      "text/plain": [
       "4"
      ]
     },
     "execution_count": 146,
     "metadata": {},
     "output_type": "execute_result"
    }
   ],
   "source": [
    "d"
   ]
  },
  {
   "cell_type": "code",
   "execution_count": null,
   "id": "8b8c30d9",
   "metadata": {},
   "outputs": [],
   "source": []
  },
  {
   "cell_type": "code",
   "execution_count": null,
   "id": "86df244f",
   "metadata": {},
   "outputs": [],
   "source": []
  },
  {
   "cell_type": "code",
   "execution_count": null,
   "id": "2db99f28",
   "metadata": {},
   "outputs": [],
   "source": []
  },
  {
   "cell_type": "code",
   "execution_count": null,
   "id": "518a3660",
   "metadata": {},
   "outputs": [],
   "source": []
  },
  {
   "cell_type": "code",
   "execution_count": null,
   "id": "244fcf33",
   "metadata": {},
   "outputs": [],
   "source": []
  },
  {
   "cell_type": "code",
   "execution_count": null,
   "id": "a5cd9293",
   "metadata": {},
   "outputs": [],
   "source": []
  },
  {
   "cell_type": "code",
   "execution_count": null,
   "id": "e0ef70c8",
   "metadata": {},
   "outputs": [],
   "source": []
  },
  {
   "cell_type": "code",
   "execution_count": null,
   "id": "0e79e422",
   "metadata": {},
   "outputs": [],
   "source": []
  },
  {
   "cell_type": "code",
   "execution_count": null,
   "id": "620a40b3",
   "metadata": {},
   "outputs": [],
   "source": []
  },
  {
   "cell_type": "code",
   "execution_count": null,
   "id": "9f1e4090",
   "metadata": {},
   "outputs": [],
   "source": []
  },
  {
   "cell_type": "code",
   "execution_count": null,
   "id": "79cf7df5",
   "metadata": {},
   "outputs": [],
   "source": []
  },
  {
   "cell_type": "code",
   "execution_count": null,
   "id": "150ba606",
   "metadata": {},
   "outputs": [],
   "source": []
  }
 ],
 "metadata": {
  "kernelspec": {
   "display_name": "Python 3",
   "language": "python",
   "name": "python3"
  },
  "language_info": {
   "codemirror_mode": {
    "name": "ipython",
    "version": 3
   },
   "file_extension": ".py",
   "mimetype": "text/x-python",
   "name": "python",
   "nbconvert_exporter": "python",
   "pygments_lexer": "ipython3",
   "version": "3.8.8"
  }
 },
 "nbformat": 4,
 "nbformat_minor": 5
}
