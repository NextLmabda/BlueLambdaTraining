{
 "cells": [
  {
   "cell_type": "code",
   "execution_count": 3,
   "id": "35a39932",
   "metadata": {},
   "outputs": [],
   "source": [
    "def times10(x, y):\n",
    "    return 10 * x"
   ]
  },
  {
   "cell_type": "code",
   "execution_count": 4,
   "id": "b61070be",
   "metadata": {},
   "outputs": [
    {
     "ename": "TypeError",
     "evalue": "times10() missing 2 required positional arguments: 'x' and 'y'",
     "output_type": "error",
     "traceback": [
      "\u001b[1;31m---------------------------------------------------------------------------\u001b[0m",
      "\u001b[1;31mTypeError\u001b[0m                                 Traceback (most recent call last)",
      "\u001b[1;32m<ipython-input-4-ed6506afb32a>\u001b[0m in \u001b[0;36m<module>\u001b[1;34m\u001b[0m\n\u001b[1;32m----> 1\u001b[1;33m \u001b[0mtimes10\u001b[0m\u001b[1;33m(\u001b[0m\u001b[1;33m)\u001b[0m\u001b[1;33m\u001b[0m\u001b[1;33m\u001b[0m\u001b[0m\n\u001b[0m",
      "\u001b[1;31mTypeError\u001b[0m: times10() missing 2 required positional arguments: 'x' and 'y'"
     ]
    }
   ],
   "source": [
    "times10(10, 20)"
   ]
  },
  {
   "cell_type": "code",
   "execution_count": 5,
   "id": "33b65a1f",
   "metadata": {},
   "outputs": [],
   "source": [
    "def times10(x = 3, y = 2):\n",
    "    return 10 * x"
   ]
  },
  {
   "cell_type": "code",
   "execution_count": 8,
   "id": "b804d2c0",
   "metadata": {},
   "outputs": [],
   "source": [
    "def times10(x):\n",
    "    return 10 * x"
   ]
  },
  {
   "cell_type": "code",
   "execution_count": 9,
   "id": "15856bfd",
   "metadata": {},
   "outputs": [
    {
     "data": {
      "text/plain": [
       "200"
      ]
     },
     "execution_count": 9,
     "metadata": {},
     "output_type": "execute_result"
    }
   ],
   "source": [
    "times10(20)"
   ]
  },
  {
   "cell_type": "code",
   "execution_count": 10,
   "id": "8c4d68f7",
   "metadata": {},
   "outputs": [
    {
     "data": {
      "text/plain": [
       "<function __main__.times10(x)>"
      ]
     },
     "execution_count": 10,
     "metadata": {},
     "output_type": "execute_result"
    }
   ],
   "source": [
    "times10"
   ]
  },
  {
   "cell_type": "code",
   "execution_count": 11,
   "id": "cc2c7f18",
   "metadata": {},
   "outputs": [],
   "source": [
    "fn = times10"
   ]
  },
  {
   "cell_type": "code",
   "execution_count": 12,
   "id": "09322730",
   "metadata": {},
   "outputs": [
    {
     "data": {
      "text/plain": [
       "230"
      ]
     },
     "execution_count": 12,
     "metadata": {},
     "output_type": "execute_result"
    }
   ],
   "source": [
    "times10(23)"
   ]
  },
  {
   "cell_type": "code",
   "execution_count": 13,
   "id": "064f5e33",
   "metadata": {},
   "outputs": [
    {
     "data": {
      "text/plain": [
       "230"
      ]
     },
     "execution_count": 13,
     "metadata": {},
     "output_type": "execute_result"
    }
   ],
   "source": [
    "fn(23)"
   ]
  },
  {
   "cell_type": "code",
   "execution_count": 15,
   "id": "f97abc16",
   "metadata": {},
   "outputs": [],
   "source": [
    "fn = times10(2)"
   ]
  },
  {
   "cell_type": "code",
   "execution_count": 16,
   "id": "2b85275f",
   "metadata": {},
   "outputs": [
    {
     "ename": "TypeError",
     "evalue": "'int' object is not callable",
     "output_type": "error",
     "traceback": [
      "\u001b[1;31m---------------------------------------------------------------------------\u001b[0m",
      "\u001b[1;31mTypeError\u001b[0m                                 Traceback (most recent call last)",
      "\u001b[1;32m<ipython-input-16-63308d40b039>\u001b[0m in \u001b[0;36m<module>\u001b[1;34m\u001b[0m\n\u001b[1;32m----> 1\u001b[1;33m \u001b[0mfn\u001b[0m\u001b[1;33m(\u001b[0m\u001b[1;36m2\u001b[0m\u001b[1;33m)\u001b[0m\u001b[1;33m\u001b[0m\u001b[1;33m\u001b[0m\u001b[0m\n\u001b[0m",
      "\u001b[1;31mTypeError\u001b[0m: 'int' object is not callable"
     ]
    }
   ],
   "source": [
    "fn(2)"
   ]
  },
  {
   "cell_type": "code",
   "execution_count": 17,
   "id": "8074497f",
   "metadata": {},
   "outputs": [
    {
     "data": {
      "text/plain": [
       "20"
      ]
     },
     "execution_count": 17,
     "metadata": {},
     "output_type": "execute_result"
    }
   ],
   "source": [
    "times10(2)"
   ]
  },
  {
   "cell_type": "code",
   "execution_count": 18,
   "id": "3d90d95c",
   "metadata": {},
   "outputs": [
    {
     "data": {
      "text/plain": [
       "<function __main__.times10(x)>"
      ]
     },
     "execution_count": 18,
     "metadata": {},
     "output_type": "execute_result"
    }
   ],
   "source": [
    "times10"
   ]
  },
  {
   "cell_type": "code",
   "execution_count": 19,
   "id": "9a1e3aa5",
   "metadata": {},
   "outputs": [
    {
     "data": {
      "text/plain": [
       "20"
      ]
     },
     "execution_count": 19,
     "metadata": {},
     "output_type": "execute_result"
    }
   ],
   "source": [
    "times10(2)"
   ]
  },
  {
   "cell_type": "code",
   "execution_count": 20,
   "id": "24d4bfde",
   "metadata": {},
   "outputs": [],
   "source": [
    "def times10(x):\n",
    "    return 10 * x\n",
    "\n",
    "def times20(x):\n",
    "    return 20 * x"
   ]
  },
  {
   "cell_type": "code",
   "execution_count": 21,
   "id": "a6b594c3",
   "metadata": {},
   "outputs": [],
   "source": [
    "def operate(func, x):\n",
    "    return func(x)"
   ]
  },
  {
   "cell_type": "code",
   "execution_count": 22,
   "id": "a7ca5416",
   "metadata": {},
   "outputs": [
    {
     "data": {
      "text/plain": [
       "2000"
      ]
     },
     "execution_count": 22,
     "metadata": {},
     "output_type": "execute_result"
    }
   ],
   "source": [
    "operate(times10, 200)"
   ]
  },
  {
   "cell_type": "code",
   "execution_count": 23,
   "id": "5c1afc95",
   "metadata": {},
   "outputs": [],
   "source": [
    "func = times10"
   ]
  },
  {
   "cell_type": "code",
   "execution_count": 24,
   "id": "fbd0cb80",
   "metadata": {},
   "outputs": [
    {
     "data": {
      "text/plain": [
       "2000"
      ]
     },
     "execution_count": 24,
     "metadata": {},
     "output_type": "execute_result"
    }
   ],
   "source": [
    "func(200)"
   ]
  },
  {
   "cell_type": "code",
   "execution_count": 25,
   "id": "9d9063a0",
   "metadata": {},
   "outputs": [],
   "source": [
    "def make_multiplier_of(n):\n",
    "    def multiplier(x):\n",
    "        return x * n\n",
    "    return multiplier"
   ]
  },
  {
   "cell_type": "code",
   "execution_count": 26,
   "id": "63c4afd9",
   "metadata": {},
   "outputs": [
    {
     "data": {
      "text/plain": [
       "<function __main__.make_multiplier_of.<locals>.multiplier(x)>"
      ]
     },
     "execution_count": 26,
     "metadata": {},
     "output_type": "execute_result"
    }
   ],
   "source": [
    "make_multiplier_of(30)"
   ]
  },
  {
   "cell_type": "code",
   "execution_count": 27,
   "id": "5ce9311f",
   "metadata": {},
   "outputs": [],
   "source": [
    "times30 = make_multiplier_of(30)"
   ]
  },
  {
   "cell_type": "code",
   "execution_count": 28,
   "id": "ea5d0f61",
   "metadata": {},
   "outputs": [
    {
     "data": {
      "text/plain": [
       "300"
      ]
     },
     "execution_count": 28,
     "metadata": {},
     "output_type": "execute_result"
    }
   ],
   "source": [
    "times30(10)"
   ]
  },
  {
   "cell_type": "code",
   "execution_count": 29,
   "id": "1e77cbe4",
   "metadata": {},
   "outputs": [
    {
     "ename": "NameError",
     "evalue": "name 'multiplier' is not defined",
     "output_type": "error",
     "traceback": [
      "\u001b[1;31m---------------------------------------------------------------------------\u001b[0m",
      "\u001b[1;31mNameError\u001b[0m                                 Traceback (most recent call last)",
      "\u001b[1;32m<ipython-input-29-ff7446364662>\u001b[0m in \u001b[0;36m<module>\u001b[1;34m\u001b[0m\n\u001b[1;32m----> 1\u001b[1;33m \u001b[0mmultiplier\u001b[0m\u001b[1;33m(\u001b[0m\u001b[1;36m23\u001b[0m\u001b[1;33m)\u001b[0m\u001b[1;33m\u001b[0m\u001b[1;33m\u001b[0m\u001b[0m\n\u001b[0m",
      "\u001b[1;31mNameError\u001b[0m: name 'multiplier' is not defined"
     ]
    }
   ],
   "source": [
    "multiplier(23)"
   ]
  },
  {
   "cell_type": "code",
   "execution_count": 30,
   "id": "963c1c17",
   "metadata": {},
   "outputs": [],
   "source": [
    "del make_multiplier_of"
   ]
  },
  {
   "cell_type": "code",
   "execution_count": 31,
   "id": "e473c0d9",
   "metadata": {},
   "outputs": [
    {
     "ename": "NameError",
     "evalue": "name 'make_multiplier_of' is not defined",
     "output_type": "error",
     "traceback": [
      "\u001b[1;31m---------------------------------------------------------------------------\u001b[0m",
      "\u001b[1;31mNameError\u001b[0m                                 Traceback (most recent call last)",
      "\u001b[1;32m<ipython-input-31-f96cc7729187>\u001b[0m in \u001b[0;36m<module>\u001b[1;34m\u001b[0m\n\u001b[1;32m----> 1\u001b[1;33m \u001b[0mmake_multiplier_of\u001b[0m\u001b[1;33m(\u001b[0m\u001b[1;36m2\u001b[0m\u001b[1;33m)\u001b[0m\u001b[1;33m\u001b[0m\u001b[1;33m\u001b[0m\u001b[0m\n\u001b[0m",
      "\u001b[1;31mNameError\u001b[0m: name 'make_multiplier_of' is not defined"
     ]
    }
   ],
   "source": [
    "make_multiplier_of(2)"
   ]
  },
  {
   "cell_type": "code",
   "execution_count": 32,
   "id": "bba804e7",
   "metadata": {},
   "outputs": [
    {
     "data": {
      "text/plain": [
       "270"
      ]
     },
     "execution_count": 32,
     "metadata": {},
     "output_type": "execute_result"
    }
   ],
   "source": [
    "times30(9)"
   ]
  },
  {
   "cell_type": "code",
   "execution_count": 33,
   "id": "7de3b7a8",
   "metadata": {},
   "outputs": [],
   "source": [
    "def divide(x, y):\n",
    "    return x / y"
   ]
  },
  {
   "cell_type": "code",
   "execution_count": 34,
   "id": "cf560f6a",
   "metadata": {},
   "outputs": [
    {
     "ename": "ZeroDivisionError",
     "evalue": "division by zero",
     "output_type": "error",
     "traceback": [
      "\u001b[1;31m---------------------------------------------------------------------------\u001b[0m",
      "\u001b[1;31mZeroDivisionError\u001b[0m                         Traceback (most recent call last)",
      "\u001b[1;32m<ipython-input-34-45e818b2b9c5>\u001b[0m in \u001b[0;36m<module>\u001b[1;34m\u001b[0m\n\u001b[1;32m----> 1\u001b[1;33m \u001b[0mdivide\u001b[0m\u001b[1;33m(\u001b[0m\u001b[1;36m2\u001b[0m\u001b[1;33m,\u001b[0m \u001b[1;36m0\u001b[0m\u001b[1;33m)\u001b[0m\u001b[1;33m\u001b[0m\u001b[1;33m\u001b[0m\u001b[0m\n\u001b[0m",
      "\u001b[1;32m<ipython-input-33-78cbfed699b9>\u001b[0m in \u001b[0;36mdivide\u001b[1;34m(x, y)\u001b[0m\n\u001b[0;32m      1\u001b[0m \u001b[1;32mdef\u001b[0m \u001b[0mdivide\u001b[0m\u001b[1;33m(\u001b[0m\u001b[0mx\u001b[0m\u001b[1;33m,\u001b[0m \u001b[0my\u001b[0m\u001b[1;33m)\u001b[0m\u001b[1;33m:\u001b[0m\u001b[1;33m\u001b[0m\u001b[1;33m\u001b[0m\u001b[0m\n\u001b[1;32m----> 2\u001b[1;33m     \u001b[1;32mreturn\u001b[0m \u001b[0mx\u001b[0m \u001b[1;33m/\u001b[0m \u001b[0my\u001b[0m\u001b[1;33m\u001b[0m\u001b[1;33m\u001b[0m\u001b[0m\n\u001b[0m",
      "\u001b[1;31mZeroDivisionError\u001b[0m: division by zero"
     ]
    }
   ],
   "source": [
    "divide(2, 0)"
   ]
  },
  {
   "cell_type": "code",
   "execution_count": 35,
   "id": "e4b29d28",
   "metadata": {},
   "outputs": [],
   "source": [
    "def divide(x, y):\n",
    "    return x / y"
   ]
  },
  {
   "cell_type": "code",
   "execution_count": 36,
   "id": "ae0ac2e6",
   "metadata": {},
   "outputs": [],
   "source": [
    "def decorator(func, x, y):\n",
    "    if y == 0:\n",
    "        print(\"you can't divide by zero\")\n",
    "    else:\n",
    "        return func(x, y)"
   ]
  },
  {
   "cell_type": "code",
   "execution_count": 38,
   "id": "5a0c87ea",
   "metadata": {},
   "outputs": [
    {
     "data": {
      "text/plain": [
       "1.0"
      ]
     },
     "execution_count": 38,
     "metadata": {},
     "output_type": "execute_result"
    }
   ],
   "source": [
    "decorator(divide, 2, 2)"
   ]
  },
  {
   "cell_type": "code",
   "execution_count": null,
   "id": "ba6a4fe2",
   "metadata": {},
   "outputs": [],
   "source": [
    "fn = func1(func2)"
   ]
  },
  {
   "cell_type": "code",
   "execution_count": 40,
   "id": "6b8f52b1",
   "metadata": {},
   "outputs": [],
   "source": [
    "def make_pretty(func):\n",
    "    def inner():\n",
    "        print(\"I got decorated\")\n",
    "        func()\n",
    "    return inner"
   ]
  },
  {
   "cell_type": "code",
   "execution_count": 41,
   "id": "7ff9dc74",
   "metadata": {},
   "outputs": [],
   "source": [
    "def ordinary():\n",
    "    print(\"I am ordinary\")"
   ]
  },
  {
   "cell_type": "code",
   "execution_count": 42,
   "id": "bc203dd4",
   "metadata": {},
   "outputs": [],
   "source": [
    "fn = make_pretty(ordinary)"
   ]
  },
  {
   "cell_type": "code",
   "execution_count": 44,
   "id": "372f693e",
   "metadata": {},
   "outputs": [
    {
     "name": "stdout",
     "output_type": "stream",
     "text": [
      "I am ordinary\n"
     ]
    }
   ],
   "source": [
    "ordinary()"
   ]
  },
  {
   "cell_type": "code",
   "execution_count": 43,
   "id": "f0ee1a15",
   "metadata": {},
   "outputs": [
    {
     "name": "stdout",
     "output_type": "stream",
     "text": [
      "I got decorated\n",
      "I am ordinary\n"
     ]
    }
   ],
   "source": [
    "fn()"
   ]
  },
  {
   "cell_type": "code",
   "execution_count": 45,
   "id": "0f5b48ac",
   "metadata": {},
   "outputs": [],
   "source": [
    "ordinary = make_pretty(ordinary)"
   ]
  },
  {
   "cell_type": "code",
   "execution_count": 46,
   "id": "8dd579e8",
   "metadata": {},
   "outputs": [
    {
     "name": "stdout",
     "output_type": "stream",
     "text": [
      "I got decorated\n",
      "I am ordinary\n"
     ]
    }
   ],
   "source": [
    "ordinary()"
   ]
  },
  {
   "cell_type": "code",
   "execution_count": null,
   "id": "c338b93c",
   "metadata": {},
   "outputs": [],
   "source": [
    "f(g(k(x)))"
   ]
  },
  {
   "cell_type": "code",
   "execution_count": 55,
   "id": "8546dda9",
   "metadata": {},
   "outputs": [],
   "source": [
    "def make_pretty(func):\n",
    "    def inner():\n",
    "        print(\"I got decorated and decorated again and  again\")\n",
    "        func()\n",
    "    return inner"
   ]
  },
  {
   "cell_type": "code",
   "execution_count": 56,
   "id": "428356a6",
   "metadata": {},
   "outputs": [],
   "source": [
    "def ordinary():\n",
    "    print(\"I am ordinary and arodinary\")"
   ]
  },
  {
   "cell_type": "code",
   "execution_count": 57,
   "id": "f1659277",
   "metadata": {},
   "outputs": [],
   "source": [
    "@make_pretty\n",
    "def ordinary():\n",
    "    print(\"I am ordinary and arodinary\")"
   ]
  },
  {
   "cell_type": "code",
   "execution_count": 58,
   "id": "e1bf5256",
   "metadata": {},
   "outputs": [
    {
     "name": "stdout",
     "output_type": "stream",
     "text": [
      "I got decorated and decorated again and  again\n",
      "I am ordinary and arodinary\n"
     ]
    }
   ],
   "source": [
    "ordinary()"
   ]
  },
  {
   "cell_type": "code",
   "execution_count": 59,
   "id": "7c2dd6e4",
   "metadata": {},
   "outputs": [],
   "source": [
    "def smart_divide(func):\n",
    "    def inner(a, b):\n",
    "        print(\"I am going to divide\", a, \"and\", b)\n",
    "        if b == 0:\n",
    "            print(\"you can't divide by zero\")\n",
    "            return\n",
    "\n",
    "        return func(a, b)\n",
    "    return inner\n",
    "\n",
    "\n",
    "@smart_divide\n",
    "def divide(a, b):\n",
    "    print(a/b)"
   ]
  },
  {
   "cell_type": "code",
   "execution_count": 61,
   "id": "04fe60a7",
   "metadata": {},
   "outputs": [
    {
     "name": "stdout",
     "output_type": "stream",
     "text": [
      "I am going to divide 2 and 2\n",
      "1.0\n"
     ]
    }
   ],
   "source": [
    "divide(2, 2)"
   ]
  },
  {
   "cell_type": "code",
   "execution_count": 79,
   "id": "beb9a0d8",
   "metadata": {},
   "outputs": [],
   "source": [
    "def star(func):\n",
    "    def inner(*args, **kwargs):\n",
    "        print(\"*\" * 30)\n",
    "        func(*args, **kwargs)\n",
    "        print(\"*\" * 30)\n",
    "    return inner\n",
    "\n",
    "\n",
    "def percent(func):\n",
    "    def inner(*args, **kwargs):\n",
    "        print(\"%\" * 30)\n",
    "        func(*args, **kwargs)\n",
    "        print(\"%\" * 30)\n",
    "    return inner"
   ]
  },
  {
   "cell_type": "code",
   "execution_count": 80,
   "id": "fae09167",
   "metadata": {},
   "outputs": [],
   "source": [
    "def printer(name):\n",
    "    print(f'Good Morning, {name}')"
   ]
  },
  {
   "cell_type": "code",
   "execution_count": 81,
   "id": "7384658b",
   "metadata": {},
   "outputs": [
    {
     "name": "stdout",
     "output_type": "stream",
     "text": [
      "Good Morning, Omolewa\n"
     ]
    }
   ],
   "source": [
    "printer('Omolewa')"
   ]
  },
  {
   "cell_type": "code",
   "execution_count": 82,
   "id": "2c74c26e",
   "metadata": {},
   "outputs": [],
   "source": [
    "@star\n",
    "@percent\n",
    "def printer(name):\n",
    "    print(name)\n",
    "    print(f'Good Morning, {name}')"
   ]
  },
  {
   "cell_type": "code",
   "execution_count": null,
   "id": "afd5dc3b",
   "metadata": {},
   "outputs": [],
   "source": [
    "star(percent(printer))"
   ]
  },
  {
   "cell_type": "code",
   "execution_count": 83,
   "id": "6b494348",
   "metadata": {},
   "outputs": [
    {
     "name": "stdout",
     "output_type": "stream",
     "text": [
      "******************************\n",
      "%%%%%%%%%%%%%%%%%%%%%%%%%%%%%%\n",
      "Omolewa\n",
      "Good Morning, Omolewa\n",
      "%%%%%%%%%%%%%%%%%%%%%%%%%%%%%%\n",
      "******************************\n"
     ]
    }
   ],
   "source": [
    "printer(\"Omolewa\")"
   ]
  },
  {
   "cell_type": "code",
   "execution_count": 84,
   "id": "6ec5b27f",
   "metadata": {},
   "outputs": [],
   "source": [
    "def inner(*args, **kwargs):\n",
    "        print(\"*\" * 30)"
   ]
  },
  {
   "cell_type": "code",
   "execution_count": 85,
   "id": "09b6c02f",
   "metadata": {},
   "outputs": [
    {
     "name": "stdout",
     "output_type": "stream",
     "text": [
      "******************************\n"
     ]
    }
   ],
   "source": [
    "print(\"*\" * 30)"
   ]
  },
  {
   "cell_type": "code",
   "execution_count": 86,
   "id": "2dae9fba",
   "metadata": {},
   "outputs": [
    {
     "name": "stdout",
     "output_type": "stream",
     "text": [
      "******************************\n"
     ]
    }
   ],
   "source": [
    "inner()"
   ]
  },
  {
   "cell_type": "code",
   "execution_count": 87,
   "id": "5f404c4b",
   "metadata": {},
   "outputs": [],
   "source": [
    "@percent\n",
    "@star\n",
    "def printer(name):\n",
    "    print(f'Good Morning, {name}')"
   ]
  },
  {
   "cell_type": "code",
   "execution_count": 88,
   "id": "9a907040",
   "metadata": {},
   "outputs": [
    {
     "name": "stdout",
     "output_type": "stream",
     "text": [
      "%%%%%%%%%%%%%%%%%%%%%%%%%%%%%%\n",
      "******************************\n",
      "Good Morning, Omolewa\n",
      "******************************\n",
      "%%%%%%%%%%%%%%%%%%%%%%%%%%%%%%\n"
     ]
    }
   ],
   "source": [
    "printer('Omolewa')"
   ]
  },
  {
   "cell_type": "code",
   "execution_count": null,
   "id": "bea65c62",
   "metadata": {},
   "outputs": [],
   "source": [
    "filter"
   ]
  },
  {
   "cell_type": "code",
   "execution_count": null,
   "id": "958c6bb8",
   "metadata": {},
   "outputs": [],
   "source": []
  },
  {
   "cell_type": "code",
   "execution_count": null,
   "id": "5ace666e",
   "metadata": {},
   "outputs": [],
   "source": []
  },
  {
   "cell_type": "code",
   "execution_count": null,
   "id": "6c978f6c",
   "metadata": {},
   "outputs": [],
   "source": []
  },
  {
   "cell_type": "code",
   "execution_count": null,
   "id": "0cdf87d9",
   "metadata": {},
   "outputs": [],
   "source": []
  },
  {
   "cell_type": "code",
   "execution_count": null,
   "id": "ccf8c49b",
   "metadata": {},
   "outputs": [],
   "source": []
  }
 ],
 "metadata": {
  "kernelspec": {
   "display_name": "Python 3",
   "language": "python",
   "name": "python3"
  },
  "language_info": {
   "codemirror_mode": {
    "name": "ipython",
    "version": 3
   },
   "file_extension": ".py",
   "mimetype": "text/x-python",
   "name": "python",
   "nbconvert_exporter": "python",
   "pygments_lexer": "ipython3",
   "version": "3.8.8"
  }
 },
 "nbformat": 4,
 "nbformat_minor": 5
}
