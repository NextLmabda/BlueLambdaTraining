{
 "cells": [
  {
   "cell_type": "code",
   "execution_count": 1,
   "id": "06ff153b",
   "metadata": {},
   "outputs": [],
   "source": [
    "# for loop"
   ]
  },
  {
   "cell_type": "code",
   "execution_count": null,
   "id": "357ec56a",
   "metadata": {},
   "outputs": [],
   "source": [
    "for condition:\n",
    "    todo"
   ]
  },
  {
   "cell_type": "code",
   "execution_count": 2,
   "id": "fa547faa",
   "metadata": {},
   "outputs": [],
   "source": [
    "lis = [2, 4, 6, 8]"
   ]
  },
  {
   "cell_type": "code",
   "execution_count": 3,
   "id": "bee52a0e",
   "metadata": {},
   "outputs": [],
   "source": [
    "#[4,. 8, 12, 16]"
   ]
  },
  {
   "cell_type": "code",
   "execution_count": 6,
   "id": "5f3db8f4",
   "metadata": {},
   "outputs": [],
   "source": [
    "output = []\n",
    "for num in lis: \n",
    "    output.append(num * 2)"
   ]
  },
  {
   "cell_type": "code",
   "execution_count": 7,
   "id": "9e61cb0b",
   "metadata": {},
   "outputs": [
    {
     "data": {
      "text/plain": [
       "[4, 8, 12, 16]"
      ]
     },
     "execution_count": 7,
     "metadata": {},
     "output_type": "execute_result"
    }
   ],
   "source": [
    "output"
   ]
  },
  {
   "cell_type": "code",
   "execution_count": 8,
   "id": "9d7dd82c",
   "metadata": {},
   "outputs": [],
   "source": [
    "var = []"
   ]
  },
  {
   "cell_type": "code",
   "execution_count": 9,
   "id": "501c5365",
   "metadata": {},
   "outputs": [
    {
     "data": {
      "text/plain": [
       "list"
      ]
     },
     "execution_count": 9,
     "metadata": {},
     "output_type": "execute_result"
    }
   ],
   "source": [
    "type(var)"
   ]
  },
  {
   "cell_type": "code",
   "execution_count": 10,
   "id": "db81a3b0",
   "metadata": {},
   "outputs": [],
   "source": [
    "lis = [2, 4, 6, 8]\n",
    "# {2: 4, 4: 8, 6: 12, 8: 16}"
   ]
  },
  {
   "cell_type": "code",
   "execution_count": null,
   "id": "642e78af",
   "metadata": {},
   "outputs": [],
   "source": [
    "key-value pair"
   ]
  },
  {
   "cell_type": "code",
   "execution_count": 11,
   "id": "06f6dd01",
   "metadata": {},
   "outputs": [],
   "source": [
    "dic = {}\n",
    "for num in lis:\n",
    "    dic[num] = 2 * num"
   ]
  },
  {
   "cell_type": "code",
   "execution_count": 12,
   "id": "79b1c3a3",
   "metadata": {},
   "outputs": [
    {
     "data": {
      "text/plain": [
       "{2: 4, 4: 8, 6: 12, 8: 16}"
      ]
     },
     "execution_count": 12,
     "metadata": {},
     "output_type": "execute_result"
    }
   ],
   "source": [
    "dic"
   ]
  },
  {
   "cell_type": "code",
   "execution_count": 13,
   "id": "f79f6820",
   "metadata": {},
   "outputs": [],
   "source": [
    "list1 = [2, 4, 6, 8]\n",
    "list2 = [1, 2, 3, 4, 5, 6, 7]"
   ]
  },
  {
   "cell_type": "code",
   "execution_count": 15,
   "id": "3edf6908",
   "metadata": {},
   "outputs": [
    {
     "name": "stdout",
     "output_type": "stream",
     "text": [
      "2\n",
      "4\n",
      "6\n",
      "8\n",
      "10\n",
      "12\n",
      "14\n",
      "4\n",
      "8\n",
      "12\n",
      "16\n",
      "20\n",
      "24\n",
      "28\n",
      "6\n",
      "12\n",
      "18\n",
      "24\n",
      "30\n",
      "36\n",
      "42\n",
      "8\n",
      "16\n",
      "24\n",
      "32\n",
      "40\n",
      "48\n",
      "56\n"
     ]
    }
   ],
   "source": [
    "for num1 in list1:\n",
    "    for num2 in list2:\n",
    "        print(num1 * num2)"
   ]
  },
  {
   "cell_type": "markdown",
   "id": "11cffd82",
   "metadata": {},
   "source": [
    "num1 = 2\n",
    "num2 = 1\n",
    "2 * 1 = 2\n",
    "num1 = 2\n",
    "num2 = 2\n",
    "2 * 2 = 4\n",
    "num1 = 2\n",
    "num2 = 3\n",
    "2 * 3 = 6\n",
    "num1 = 2\n",
    "num2 = 7\n",
    "2* 7 =14\n",
    "num1 = 4"
   ]
  },
  {
   "cell_type": "markdown",
   "id": "e4fe824b",
   "metadata": {},
   "source": [
    "# Felix"
   ]
  },
  {
   "cell_type": "markdown",
   "id": "b8e5f855",
   "metadata": {},
   "source": [
    "## Felix"
   ]
  },
  {
   "cell_type": "markdown",
   "id": "4a8c701d",
   "metadata": {},
   "source": [
    "# Object_Detection_and_Segmentation\n",
    "Object Detection and Segmentation with Pytorch\n",
    "## Table of Contents\n",
    "1. [Project Description](#description)\n",
    "2. [Project Credentials](#credentials)\n",
    "    * [MongoDB Credentials](#mongo)\n",
    "    * [Resize Images](#crop-and-resize-all-images)\n",
    "    * [Checking Blurness of Images](#Checking-Blur)\n",
    "    * [Data Augmentation](#Data-Augmentation)\n",
    "4. [CNN Architecture](#neural-network-architecture)\n",
    "5. [Installation](#installation)\n",
    "6. [Results](#results)\n",
    "7. [References](#references)\n",
    "8. [Authors](#Authors)\n",
    "\n",
    "\n",
    "## Project Description <a id=\"description\"></a>\n",
    "\n",
    "\n",
    "## Project Credentials <a id=\"credentials\"></a>\n",
    "The project is using **Decouple library** to manage all the necessary credentials. \n",
    "- A .env file must be created at the root of the project\n",
    "- all the credentials written to the file. example ''' mongodb_username=user1\n",
    "mongodb_password=user1password '''\n",
    "\n",
    "##### MongoDB Credentials <a id=\"mongo\"></a>\n",
    "- Mongo DB Credentials: It contains the username and password of the MongoDB user\n",
    "- MongoDB Connection string\n",
    "\n",
    "## Installation <a id=\"installation\"></a>\n",
    "* [Python (Minimum 3)](https://www.continuum.io/blog/developer-blog/python-3-support-anaconda)\n",
    "* [pandas](http://pandas.pydata.org/)\n",
    "* [Seaborn](https://seaborn.pydata.org/)\n",
    "\n",
    "## Authors\n",
    "\n",
    "* **[Omolewa Adaramola](https://github.com/omolewadavids)**\n",
    "* [Blue Lambda Techgnologies LLC](https://www.bluelambdatechnologies.com/)\n",
    "\n",
    "## License\n",
    "\n",
    "* <a rel=\"license\" href=\"https://creativecommons.org/licenses/by-nc-nd/4.0/\"> Creative Commons Attribution-NonCommercial-NoDerivatives 4.0 International License</a>\n",
    "\n",
    "<a rel=\"license\" href=\"https://creativecommons.org/licenses/by-nc-nd/4.0/\">\n",
    "\t<img alt=\"Creative Commons License\" style=\"border-width:0\" src=\"https://i.creativecommons.org/l/by-nc-nd/4.0/88x31.png\" />\n",
    "</a>"
   ]
  },
  {
   "cell_type": "markdown",
   "id": "a67b58f6",
   "metadata": {},
   "source": [
    " **string**"
   ]
  },
  {
   "cell_type": "markdown",
   "id": "e4650fe4",
   "metadata": {},
   "source": [
    "My name is **Omolewa**"
   ]
  },
  {
   "cell_type": "markdown",
   "id": "c6d62f37",
   "metadata": {},
   "source": [
    "$ log $"
   ]
  },
  {
   "cell_type": "markdown",
   "id": "7fd0ded1",
   "metadata": {},
   "source": [
    "- First term\n",
    "    - Second term"
   ]
  },
  {
   "cell_type": "markdown",
   "id": "719c404a",
   "metadata": {},
   "source": [
    "Click here for __[Markdown Link](https://www.ibm.com/docs/en/db2-event-store/2.0.0?topic=notebooks-markdown-jupyter-cheatsheet)__"
   ]
  },
  {
   "cell_type": "markdown",
   "id": "c102ae12",
   "metadata": {},
   "source": [
    "# if-statement\n",
    "if True:\n",
    "    body"
   ]
  },
  {
   "cell_type": "code",
   "execution_count": 25,
   "id": "337bef15",
   "metadata": {},
   "outputs": [],
   "source": [
    "num = 12"
   ]
  },
  {
   "cell_type": "code",
   "execution_count": 22,
   "id": "d822310e",
   "metadata": {},
   "outputs": [
    {
     "name": "stdout",
     "output_type": "stream",
     "text": [
      "Omolewa\n"
     ]
    }
   ],
   "source": [
    "if num != 500:\n",
    "    print('Omolewa')"
   ]
  },
  {
   "cell_type": "code",
   "execution_count": 21,
   "id": "d6337abf",
   "metadata": {},
   "outputs": [
    {
     "data": {
      "text/plain": [
       "True"
      ]
     },
     "execution_count": 21,
     "metadata": {},
     "output_type": "execute_result"
    }
   ],
   "source": [
    "num != 500"
   ]
  },
  {
   "cell_type": "code",
   "execution_count": 26,
   "id": "7f5fc11d",
   "metadata": {},
   "outputs": [
    {
     "name": "stdout",
     "output_type": "stream",
     "text": [
      "Adaramola\n"
     ]
    }
   ],
   "source": [
    "if num == 500:\n",
    "    print('Omolewa')\n",
    "elif num == 1000:\n",
    "    print('Felix')\n",
    "elif num == 200:\n",
    "    print('Bukola')\n",
    "else:\n",
    "    print('Adaramola')"
   ]
  },
  {
   "cell_type": "code",
   "execution_count": 27,
   "id": "93beea1c",
   "metadata": {},
   "outputs": [],
   "source": [
    "lis = [1, 2, 4, 6, 200, 23, 17]\n",
    "# [20, 40, 60, 2000]"
   ]
  },
  {
   "cell_type": "code",
   "execution_count": 28,
   "id": "709b5ff6",
   "metadata": {},
   "outputs": [
    {
     "data": {
      "text/plain": [
       "3.3333333333333335"
      ]
     },
     "execution_count": 28,
     "metadata": {},
     "output_type": "execute_result"
    }
   ],
   "source": [
    "10 / 3"
   ]
  },
  {
   "cell_type": "code",
   "execution_count": 29,
   "id": "d71c0569",
   "metadata": {},
   "outputs": [
    {
     "data": {
      "text/plain": [
       "3"
      ]
     },
     "execution_count": 29,
     "metadata": {},
     "output_type": "execute_result"
    }
   ],
   "source": [
    "10 // 3"
   ]
  },
  {
   "cell_type": "code",
   "execution_count": 30,
   "id": "585c8767",
   "metadata": {},
   "outputs": [
    {
     "data": {
      "text/plain": [
       "1"
      ]
     },
     "execution_count": 30,
     "metadata": {},
     "output_type": "execute_result"
    }
   ],
   "source": [
    "10 % 3"
   ]
  },
  {
   "cell_type": "code",
   "execution_count": 31,
   "id": "439c9573",
   "metadata": {},
   "outputs": [
    {
     "data": {
      "text/plain": [
       "0"
      ]
     },
     "execution_count": 31,
     "metadata": {},
     "output_type": "execute_result"
    }
   ],
   "source": [
    "10 % 2"
   ]
  },
  {
   "cell_type": "code",
   "execution_count": 33,
   "id": "273ca5c8",
   "metadata": {},
   "outputs": [
    {
     "data": {
      "text/plain": [
       "False"
      ]
     },
     "execution_count": 33,
     "metadata": {},
     "output_type": "execute_result"
    }
   ],
   "source": [
    "113 % 2 == 0"
   ]
  },
  {
   "cell_type": "code",
   "execution_count": null,
   "id": "5276ef33",
   "metadata": {},
   "outputs": [],
   "source": [
    "0 == 0"
   ]
  },
  {
   "cell_type": "code",
   "execution_count": 34,
   "id": "d47dc9a4",
   "metadata": {},
   "outputs": [
    {
     "name": "stdout",
     "output_type": "stream",
     "text": [
      "20\n",
      "40\n",
      "60\n",
      "2000\n"
     ]
    }
   ],
   "source": [
    "lis = [1, 2, 4, 6, 200, 23, 17]\n",
    "# [20, 40, 60, 2000]\n",
    "for num in lis:\n",
    "    if num % 2 == 0:\n",
    "        print(num * 10)"
   ]
  },
  {
   "cell_type": "code",
   "execution_count": null,
   "id": "e6977129",
   "metadata": {},
   "outputs": [],
   "source": [
    "range(start, stop, step)"
   ]
  },
  {
   "cell_type": "code",
   "execution_count": 37,
   "id": "d08e025c",
   "metadata": {},
   "outputs": [
    {
     "name": "stdout",
     "output_type": "stream",
     "text": [
      "0\n",
      "1\n",
      "2\n",
      "3\n",
      "4\n",
      "5\n",
      "6\n",
      "7\n",
      "8\n",
      "9\n"
     ]
    }
   ],
   "source": [
    "for i in range(10):\n",
    "    print(i)"
   ]
  },
  {
   "cell_type": "code",
   "execution_count": 43,
   "id": "c0f4b30b",
   "metadata": {},
   "outputs": [],
   "source": [
    "# multiple of 2 up to 60\n",
    "lis = []\n",
    "for i in range(1, 61):\n",
    "    if i % 2 == 0:\n",
    "        lis.append(i * 2)"
   ]
  },
  {
   "cell_type": "code",
   "execution_count": 44,
   "id": "3f4ab3c1",
   "metadata": {},
   "outputs": [
    {
     "data": {
      "text/plain": [
       "[4,\n",
       " 8,\n",
       " 12,\n",
       " 16,\n",
       " 20,\n",
       " 24,\n",
       " 28,\n",
       " 32,\n",
       " 36,\n",
       " 40,\n",
       " 44,\n",
       " 48,\n",
       " 52,\n",
       " 56,\n",
       " 60,\n",
       " 64,\n",
       " 68,\n",
       " 72,\n",
       " 76,\n",
       " 80,\n",
       " 84,\n",
       " 88,\n",
       " 92,\n",
       " 96,\n",
       " 100,\n",
       " 104,\n",
       " 108,\n",
       " 112,\n",
       " 116,\n",
       " 120]"
      ]
     },
     "execution_count": 44,
     "metadata": {},
     "output_type": "execute_result"
    }
   ],
   "source": [
    "lis"
   ]
  },
  {
   "cell_type": "code",
   "execution_count": 46,
   "id": "b15c4a54",
   "metadata": {},
   "outputs": [
    {
     "data": {
      "text/plain": [
       "[4,\n",
       " 8,\n",
       " 12,\n",
       " 16,\n",
       " 20,\n",
       " 24,\n",
       " 28,\n",
       " 32,\n",
       " 36,\n",
       " 40,\n",
       " 44,\n",
       " 48,\n",
       " 52,\n",
       " 56,\n",
       " 60,\n",
       " 64,\n",
       " 68,\n",
       " 72,\n",
       " 76,\n",
       " 80,\n",
       " 84,\n",
       " 88,\n",
       " 92,\n",
       " 96,\n",
       " 100,\n",
       " 104,\n",
       " 108,\n",
       " 112,\n",
       " 116,\n",
       " 120]"
      ]
     },
     "execution_count": 46,
     "metadata": {},
     "output_type": "execute_result"
    }
   ],
   "source": [
    "[i * 2 for i in range(1, 61) if i % 2 == 0]"
   ]
  },
  {
   "cell_type": "code",
   "execution_count": null,
   "id": "9f92a31c",
   "metadata": {},
   "outputs": [],
   "source": []
  }
 ],
 "metadata": {
  "kernelspec": {
   "display_name": "Python 3 (ipykernel)",
   "language": "python",
   "name": "python3"
  },
  "language_info": {
   "codemirror_mode": {
    "name": "ipython",
    "version": 3
   },
   "file_extension": ".py",
   "mimetype": "text/x-python",
   "name": "python",
   "nbconvert_exporter": "python",
   "pygments_lexer": "ipython3",
   "version": "3.9.7"
  }
 },
 "nbformat": 4,
 "nbformat_minor": 5
}
