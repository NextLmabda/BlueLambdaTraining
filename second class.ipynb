{
 "cells": [
  {
   "cell_type": "code",
   "execution_count": 1,
   "id": "9a968bb3",
   "metadata": {},
   "outputs": [],
   "source": [
    "# for loop"
   ]
  },
  {
   "cell_type": "code",
   "execution_count": null,
   "id": "c4b6fb4b",
   "metadata": {},
   "outputs": [],
   "source": [
    "for condition:\n",
    "    todo"
   ]
  },
  {
   "cell_type": "code",
   "execution_count": 2,
   "id": "8e12b5ff",
   "metadata": {},
   "outputs": [],
   "source": [
    "lis = [2, 4, 6, 8]"
   ]
  },
  {
   "cell_type": "code",
   "execution_count": 3,
   "id": "02516afe",
   "metadata": {},
   "outputs": [],
   "source": [
    "#[4,. 8, 12, 16]"
   ]
  },
  {
   "cell_type": "code",
   "execution_count": 6,
   "id": "b8ff3aad",
   "metadata": {},
   "outputs": [],
   "source": [
    "output = []\n",
    "for num in lis: \n",
    "    output.append(num * 2)"
   ]
  },
  {
   "cell_type": "code",
   "execution_count": 7,
   "id": "275f0aa7",
   "metadata": {},
   "outputs": [
    {
     "data": {
      "text/plain": [
       "[4, 8, 12, 16]"
      ]
     },
     "execution_count": 7,
     "metadata": {},
     "output_type": "execute_result"
    }
   ],
   "source": [
    "output"
   ]
  },
  {
   "cell_type": "code",
   "execution_count": 8,
   "id": "b61867d0",
   "metadata": {},
   "outputs": [],
   "source": [
    "var = []"
   ]
  },
  {
   "cell_type": "code",
   "execution_count": 9,
   "id": "58f8ff40",
   "metadata": {},
   "outputs": [
    {
     "data": {
      "text/plain": [
       "list"
      ]
     },
     "execution_count": 9,
     "metadata": {},
     "output_type": "execute_result"
    }
   ],
   "source": [
    "type(var)"
   ]
  },
  {
   "cell_type": "code",
   "execution_count": null,
   "id": "b6cf5884",
   "metadata": {},
   "outputs": [],
   "source": []
  },
  {
   "cell_type": "code",
   "execution_count": null,
   "id": "b1079a5f",
   "metadata": {},
   "outputs": [],
   "source": []
  },
  {
   "cell_type": "code",
   "execution_count": null,
   "id": "5f26bf09",
   "metadata": {},
   "outputs": [],
   "source": []
  },
  {
   "cell_type": "code",
   "execution_count": null,
   "id": "548827f4",
   "metadata": {},
   "outputs": [],
   "source": [
    "# multiple of 2 up to 60"
   ]
  }
 ],
 "metadata": {
  "kernelspec": {
   "display_name": "Python 3 (ipykernel)",
   "language": "python",
   "name": "python3"
  },
  "language_info": {
   "codemirror_mode": {
    "name": "ipython",
    "version": 3
   },
   "file_extension": ".py",
   "mimetype": "text/x-python",
   "name": "python",
   "nbconvert_exporter": "python",
   "pygments_lexer": "ipython3",
   "version": "3.9.7"
  }
 },
 "nbformat": 4,
 "nbformat_minor": 5
}
